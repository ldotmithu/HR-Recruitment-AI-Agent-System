{
 "cells": [
  {
   "cell_type": "code",
   "execution_count": 1,
   "id": "7c0fe231",
   "metadata": {},
   "outputs": [],
   "source": [
    "import os "
   ]
  },
  {
   "cell_type": "code",
   "execution_count": 2,
   "id": "effd0328",
   "metadata": {},
   "outputs": [
    {
     "name": "stderr",
     "output_type": "stream",
     "text": [
      "d:\\anaconda\\envs\\hr_agent\\lib\\site-packages\\tqdm\\auto.py:21: TqdmWarning: IProgress not found. Please update jupyter and ipywidgets. See https://ipywidgets.readthedocs.io/en/stable/user_install.html\n",
      "  from .autonotebook import tqdm as notebook_tqdm\n"
     ]
    }
   ],
   "source": [
    "from langchain_core.tools import tool\n",
    "import PyPDF2\n",
    "import re\n",
    "from typing import TypedDict\n",
    "from langgraph.graph import StateGraph, END\n",
    "from langgraph.prebuilt import ToolNode\n",
    "import smtplib\n",
    "from email.message import EmailMessage\n",
    "import os\n",
    "from dotenv import load_dotenv\n",
    "from sentence_transformers import SentenceTransformer, util"
   ]
  },
  {
   "cell_type": "code",
   "execution_count": 3,
   "id": "ccc0b9c8",
   "metadata": {},
   "outputs": [],
   "source": [
    "@tool\n",
    "def extract_text_from_pdf(pdf_path: str) -> dict:\n",
    "    \"\"\"Extract text and email address from a PDF resume.\"\"\"\n",
    "    try:\n",
    "        with open(pdf_path, \"rb\") as f:\n",
    "            reader = PyPDF2.PdfReader(f)\n",
    "            text = \"\"\n",
    "            for page in reader.pages:\n",
    "                text += page.extract_text() or \"\"  # Handle NoneType\n",
    "\n",
    "        email_match = re.search(r\"[a-zA-Z0-9._%+-]+@[a-zA-Z0-9.-]+\\.[a-zA-Z]{2,}\", text)\n",
    "        email = email_match.group(0) if email_match else \"\"\n",
    "\n",
    "        return {\"resume_text\": text, \"email\": email}\n",
    "\n",
    "    except Exception as e:\n",
    "        print(\"Error extracting text from PDF:\", e)  # Log the error\n",
    "        return {\"resume_text\": \"\", \"email\": \"\"}"
   ]
  },
  {
   "cell_type": "code",
   "execution_count": 4,
   "id": "ba4c98e2",
   "metadata": {},
   "outputs": [],
   "source": [
    "model = SentenceTransformer('all-MiniLM-L6-v2')\n",
    "\n",
    "@tool\n",
    "def llm_ats_score(resume_text: str, job_text: str) -> dict:\n",
    "    \"\"\"\n",
    "    Compute semantic similarity between resume and job description using embeddings.\n",
    "    Returns an ATS score between 0–100.\n",
    "    \"\"\"\n",
    "    try:\n",
    "        embeddings = model.encode([resume_text, job_text])\n",
    "        similarity = util.cos_sim(embeddings[0], embeddings[1]).item()\n",
    "        score = round(similarity * 100, 2)\n",
    "        return {\"ats_score\": score}\n",
    "    except Exception as e:\n",
    "        print(\"❌ Semantic scoring failed:\", e)\n",
    "        return {\"ats_score\": 0.0}\n",
    "\n",
    "load_dotenv()\n",
    "# sender = os.getenv(\"EMAIL_SENDER\") # These might not be needed globally if used inside the tool\n",
    "# password = os.getenv(\"EMAIL_PASSWORD\") # as they are loaded inside send_rejection_email\n",
    "\n",
    "@tool\n",
    "def send_rejection_email(email: str) -> dict:\n",
    "    \"\"\"Send a polite rejection email if ATS score is low.\"\"\"\n",
    "    sender = os.getenv(\"EMAIL_SENDER\")\n",
    "    password = os.getenv(\"EMAIL_PASSWORD\")\n",
    "\n",
    "    try:\n",
    "        msg = EmailMessage()\n",
    "        msg[\"Subject\"] = \"Regarding Your Job Application\"\n",
    "        msg[\"From\"] = sender\n",
    "        msg[\"To\"] = email\n",
    "        msg.set_content(\"Thank you for your application. Please feel free to reapply in the future. Best wishes!\")\n",
    "\n",
    "        with smtplib.SMTP_SSL(\"smtp.gmail.com\", 465) as server:\n",
    "            server.login(sender, password)\n",
    "            server.send_message(msg)\n",
    "\n",
    "        return {\"email_sent\": True}\n",
    "    except Exception as e:\n",
    "        print(\"Error sending rejection email:\", e)  # Log the error\n",
    "        return {\"email_sent\": False}"
   ]
  },
  {
   "cell_type": "code",
   "execution_count": 5,
   "id": "6e11bd69",
   "metadata": {},
   "outputs": [],
   "source": [
    "class HRApplicationState(TypedDict):\n",
    "    pdf_path: str\n",
    "    resume_text: str\n",
    "    email: str\n",
    "    job_text: str # Add a default or ensure it's provided\n",
    "    ats_score: float"
   ]
  },
  {
   "cell_type": "code",
   "execution_count": 6,
   "id": "5503bbc9",
   "metadata": {},
   "outputs": [],
   "source": [
    "workflow = StateGraph(HRApplicationState)\n",
    "\n",
    "# Define the first node as a regular function, not a ToolNode initially,\n",
    "# if it's meant to directly process the input state.\n",
    "def _extract_resume_node(state: HRApplicationState) -> HRApplicationState:\n",
    "    pdf_path = state[\"pdf_path\"]\n",
    "    extracted_data = extract_text_from_pdf.invoke({\"pdf_path\": pdf_path}) # Call the tool function directly\n",
    "    return {\"resume_text\": extracted_data[\"resume_text\"], \"email\": extracted_data[\"email\"]}\n",
    "\n",
    "# The ATS scorer still needs the resume_text and job_text\n",
    "# It's better to ensure job_text is always present in the initial state,\n",
    "# or add another node to get it. For this example, let's assume it's in the initial state.\n",
    "def _ats_scorer_node(state: HRApplicationState) -> HRApplicationState:\n",
    "    # Ensure job_text is present before calling the tool\n",
    "    if not state.get(\"job_text\"):\n",
    "        print(\"Error: 'job_text' is missing in the state for ATS scoring.\")\n",
    "        return {\"ats_score\": 0.0} # Or raise an error\n",
    "    \n",
    "    score_data = llm_ats_score.invoke({\n",
    "        \"resume_text\": state[\"resume_text\"],\n",
    "        \"job_text\": state[\"job_text\"]\n",
    "    })\n",
    "    return {\"ats_score\": score_data[\"ats_score\"]}\n",
    "\n",
    "# The email sender also needs the email\n",
    "def _send_rejection_node(state: HRApplicationState) -> HRApplicationState:\n",
    "    if state[\"ats_score\"] < 70:\n",
    "        email_sent_data = send_rejection_email.invoke({\"email\": state[\"email\"]})\n",
    "        return email_sent_data\n",
    "    return {} # No update if email not sent\n"
   ]
  },
  {
   "cell_type": "code",
   "execution_count": 7,
   "id": "a7229380",
   "metadata": {},
   "outputs": [],
   "source": [
    "# Add nodes as callables\n",
    "workflow.add_node(\"extract_resume\", _extract_resume_node)\n",
    "workflow.add_node(\"ats_scorer\", _ats_scorer_node)\n",
    "workflow.add_node(\"send_rejection\", _send_rejection_node) # Changed this to a normal function too\n",
    "\n",
    "workflow.set_entry_point(\"extract_resume\")\n",
    "workflow.add_edge(\"extract_resume\", \"ats_scorer\")\n",
    "\n",
    "def decide_next(state: HRApplicationState) -> str:\n",
    "    # Ensure ats_score is set before comparison\n",
    "    if state.get(\"ats_score\") is None:\n",
    "        # Handle case where ats_score might not have been computed or is missing\n",
    "        print(\"ATS score not found, defaulting to rejection path.\")\n",
    "        return \"send_rejection\" \n",
    "    return \"send_rejection\" if state[\"ats_score\"] < 70 else END\n",
    "\n",
    "workflow.add_conditional_edges(\"ats_scorer\", decide_next, {\n",
    "    \"send_rejection\": \"send_rejection\",\n",
    "    END: END,\n",
    "})\n",
    "workflow.add_edge(\"send_rejection\", END)\n",
    "\n",
    "app = workflow.compile()\n"
   ]
  },
  {
   "cell_type": "code",
   "execution_count": 8,
   "id": "1a8a9154",
   "metadata": {},
   "outputs": [
    {
     "name": "stdout",
     "output_type": "stream",
     "text": [
      "Graph(nodes={'__start__': Node(id='__start__', name='__start__', data=RunnableCallable(tags=None, recurse=True, explode_args=False, func_accepts_config=False, func_accepts={}), metadata=None), 'extract_resume': Node(id='extract_resume', name='extract_resume', data=extract_resume(tags=None, recurse=True, explode_args=False, func_accepts_config=False, func_accepts={}), metadata=None), 'ats_scorer': Node(id='ats_scorer', name='ats_scorer', data=ats_scorer(tags=None, recurse=True, explode_args=False, func_accepts_config=False, func_accepts={}), metadata=None), 'send_rejection': Node(id='send_rejection', name='send_rejection', data=send_rejection(tags=None, recurse=True, explode_args=False, func_accepts_config=False, func_accepts={}), metadata=None), '__end__': Node(id='__end__', name='__end__', data=None, metadata=None)}, edges=[Edge(source='__start__', target='extract_resume', data=None, conditional=False), Edge(source='ats_scorer', target='__end__', data=None, conditional=True), Edge(source='ats_scorer', target='send_rejection', data=None, conditional=True), Edge(source='extract_resume', target='ats_scorer', data=None, conditional=False), Edge(source='send_rejection', target='__end__', data=None, conditional=False)])\n"
     ]
    }
   ],
   "source": [
    "import langgraph\n",
    "\n",
    "graph = app.get_graph()\n",
    "print(graph)"
   ]
  },
  {
   "cell_type": "code",
   "execution_count": 9,
   "id": "61005bf1",
   "metadata": {},
   "outputs": [
    {
     "data": {
      "image/png": "[encoded data removed]",
      "text/plain": [
       "<IPython.core.display.Image object>"
      ]
     },
     "metadata": {},
     "output_type": "display_data"
    }
   ],
   "source": [
    "from IPython.display import Image, display\n",
    "display(Image(app.get_graph().draw_mermaid_png()))"
   ]
  },
  {
   "cell_type": "code",
   "execution_count": 10,
   "id": "71834f25",
   "metadata": {},
   "outputs": [],
   "source": [
    "pdf_path = \"new_resume.pdf\" # Make sure this PDF exists in your environment\n",
    "job_description_text = \"We are looking for a software engineer with strong Python skills and experience in machine learning.\" # Provide a job description\n",
    "\n",
    "state = {\n",
    "    'pdf_path': pdf_path,\n",
    "    'job_text': job_description_text, # Add job_text to the initial state\n",
    "    'resume_text': '', # Initialize\n",
    "    'email': '', # Initialize\n",
    "    'ats_score': 0.0 # Initialize\n",
    "}\n"
   ]
  },
  {
   "cell_type": "code",
   "execution_count": 11,
   "id": "d3b15744",
   "metadata": {},
   "outputs": [
    {
     "name": "stdout",
     "output_type": "stream",
     "text": [
      "Final State: {'pdf_path': 'new_resume.pdf', 'resume_text': 'Lingeswaran Mithurshan\\nlingeswaranmithurshan222@gmail.com |+94 75 349 8492 |Batticaloa, Sri Lanka\\ngithub.com/ldotmithu |linkedin.com/in/lingeswaran\\nSkills\\n•Programming : Python, SQL, JavaScript, HTML\\n•AI/ML Tools : Scikit-learn, TensorFlow, Keras, XGBoost,\\nHugging Face, Groq API, LangChain\\n•Web & Deployment : Streamlit, Flask, Docker, Git, AWS\\n•Data : Pandas, NumPy, Power BI, Seaborn, Matplotlib,\\nFAISS, Apify SDK\\n•Core Areas : Machine Learning, NLP, Computer Vision,\\nLLMs, Model Deployment\\nEducation\\nB.Sc. Management Studies and Commerce 02/2023 –\\n12/2026\\nUniversity of Sri Jayewardenepura, Sri Lanka\\nCertiﬁed Data Scientist (IIT-M) 12/2024 – 08/2025\\nGUVI, Online\\nProfessional Summary\\nResults-driven AI/ML Engineer with expertise in Machine\\nLearning, Deep Learning, and Generative AI, seeking an\\nentry-level AI or Data Science role. Proﬁcient in develop-\\ning production-ready solutions using Python, TensorFlow, and\\nLangChain, achieving 15% average performance improvements\\nacross 5+ projects. Passionate about leveraging LLMs to solve\\nreal-world challenges in agriculture, recruiting, and developer\\ntooling.\\nExperience\\nNovitech R&D Private Limited, Colombo, Sri Lanka\\nAI & ML Intern 05/2024 – 10/2024\\n•Developed 5 ML models using TensorFlow and Scikit-learn,\\nimproving business prediction accuracy by 15%.\\n•Built LLM-based tools with Hugging Face and LangChain,\\nenhancing NLP task eﬃciency by 10%.\\n•Analyzed 10,000+ records with Python and SQL, creating\\nPower BI dashboards that sped up decision-making by 30%.Project Highlights\\nLLM GitHub Codebase Inspector\\n06/2023 – 12/2023\\n•Built a Streamlit app with LangChain, Groq API, and\\nFAISS to clone, chunk, and index GitHub repositories, en-\\nabling semantic search and summarization, reducing analy-\\nsis time by 40% for 10,000+ lines of code. ( GitHub )\\nAI Resume Assistant + Job Matcher\\n01/2024 – 06/2024\\n•Developed a Streamlit app using Groq LLMs and Apify SDK\\nto extract and analyze 500+ PDF resumes with 98% key-\\nword accuracy, integrating with LinkedIn and Naukri for\\n15% improved job match rates. ( GitHub )\\nPlant Disease Detection + AI Report\\n07/2023 – 12/2023\\n•Fine-tuned VGG16 model with TensorFlow for 90% accu-\\nracy on 10,000 leaf images across 15 disease classes; used\\nGroqs Mixtral-8x7b to generate AI reports with treatments,\\ncutting creation time by 50%. ( GitHub )\\nFineWine-AI: Wine Quality Prediction\\n03/2022 – 11/2022\\n•Created an ML model using Scikit-learn to predict wine\\nquality with 92% accuracy on 7,000 samples, providing en-\\nhancement and food pairing suggestions adopted by 3 winer-\\nies, boosting satisfaction by 10%. ( GitHub )\\nHouse Price Estimator (Ikman.lk)\\n01/2021 – 12/2021\\n•Developed a regression model with Scikit-learn on 5,000+\\nSri Lankan property listings, achieving an Rš of 0.85; de-\\nployed via Flask for interactive price predictions, aiding real\\nestate decisions. ( GitHub )\\n1', 'email': 'lingeswaranmithurshan222@gmail.com', 'job_text': 'We are looking for a software engineer with strong Python skills and experience in machine learning.', 'ats_score': 55.33}\n"
     ]
    }
   ],
   "source": [
    "result = app.invoke(state)\n",
    "print(\"Final State:\", result)"
   ]
  },
  {
   "cell_type": "code",
   "execution_count": 12,
   "id": "e8029e3b",
   "metadata": {},
   "outputs": [
    {
     "name": "stdout",
     "output_type": "stream",
     "text": [
      "{'pdf_path': 'new_resume.pdf', 'resume_text': 'Lingeswaran Mithurshan\\nlingeswaranmithurshan222@gmail.com |+94 75 349 8492 |Batticaloa, Sri Lanka\\ngithub.com/ldotmithu |linkedin.com/in/lingeswaran\\nSkills\\n•Programming : Python, SQL, JavaScript, HTML\\n•AI/ML Tools : Scikit-learn, TensorFlow, Keras, XGBoost,\\nHugging Face, Groq API, LangChain\\n•Web & Deployment : Streamlit, Flask, Docker, Git, AWS\\n•Data : Pandas, NumPy, Power BI, Seaborn, Matplotlib,\\nFAISS, Apify SDK\\n•Core Areas : Machine Learning, NLP, Computer Vision,\\nLLMs, Model Deployment\\nEducation\\nB.Sc. Management Studies and Commerce 02/2023 –\\n12/2026\\nUniversity of Sri Jayewardenepura, Sri Lanka\\nCertiﬁed Data Scientist (IIT-M) 12/2024 – 08/2025\\nGUVI, Online\\nProfessional Summary\\nResults-driven AI/ML Engineer with expertise in Machine\\nLearning, Deep Learning, and Generative AI, seeking an\\nentry-level AI or Data Science role. Proﬁcient in develop-\\ning production-ready solutions using Python, TensorFlow, and\\nLangChain, achieving 15% average performance improvements\\nacross 5+ projects. Passionate about leveraging LLMs to solve\\nreal-world challenges in agriculture, recruiting, and developer\\ntooling.\\nExperience\\nNovitech R&D Private Limited, Colombo, Sri Lanka\\nAI & ML Intern 05/2024 – 10/2024\\n•Developed 5 ML models using TensorFlow and Scikit-learn,\\nimproving business prediction accuracy by 15%.\\n•Built LLM-based tools with Hugging Face and LangChain,\\nenhancing NLP task eﬃciency by 10%.\\n•Analyzed 10,000+ records with Python and SQL, creating\\nPower BI dashboards that sped up decision-making by 30%.Project Highlights\\nLLM GitHub Codebase Inspector\\n06/2023 – 12/2023\\n•Built a Streamlit app with LangChain, Groq API, and\\nFAISS to clone, chunk, and index GitHub repositories, en-\\nabling semantic search and summarization, reducing analy-\\nsis time by 40% for 10,000+ lines of code. ( GitHub )\\nAI Resume Assistant + Job Matcher\\n01/2024 – 06/2024\\n•Developed a Streamlit app using Groq LLMs and Apify SDK\\nto extract and analyze 500+ PDF resumes with 98% key-\\nword accuracy, integrating with LinkedIn and Naukri for\\n15% improved job match rates. ( GitHub )\\nPlant Disease Detection + AI Report\\n07/2023 – 12/2023\\n•Fine-tuned VGG16 model with TensorFlow for 90% accu-\\nracy on 10,000 leaf images across 15 disease classes; used\\nGroqs Mixtral-8x7b to generate AI reports with treatments,\\ncutting creation time by 50%. ( GitHub )\\nFineWine-AI: Wine Quality Prediction\\n03/2022 – 11/2022\\n•Created an ML model using Scikit-learn to predict wine\\nquality with 92% accuracy on 7,000 samples, providing en-\\nhancement and food pairing suggestions adopted by 3 winer-\\nies, boosting satisfaction by 10%. ( GitHub )\\nHouse Price Estimator (Ikman.lk)\\n01/2021 – 12/2021\\n•Developed a regression model with Scikit-learn on 5,000+\\nSri Lankan property listings, achieving an Rš of 0.85; de-\\nployed via Flask for interactive price predictions, aiding real\\nestate decisions. ( GitHub )\\n1', 'email': 'lingeswaranmithurshan222@gmail.com', 'job_text': 'We are looking for a software engineer with strong Python skills and experience in machine learning.', 'ats_score': 55.33}\n"
     ]
    }
   ],
   "source": [
    "print(result)"
   ]
  },
  {
   "cell_type": "code",
   "execution_count": null,
   "id": "6227f637",
   "metadata": {},
   "outputs": [],
   "source": []
  }
 ],
 "metadata": {
  "kernelspec": {
   "display_name": "hr_agent",
   "language": "python",
   "name": "python3"
  },
  "language_info": {
   "codemirror_mode": {
    "name": "ipython",
    "version": 3
   },
   "file_extension": ".py",
   "mimetype": "text/x-python",
   "name": "python",
   "nbconvert_exporter": "python",
   "pygments_lexer": "ipython3",
   "version": "3.10.18"
  }
 },
 "nbformat": 4,
 "nbformat_minor": 5
}
